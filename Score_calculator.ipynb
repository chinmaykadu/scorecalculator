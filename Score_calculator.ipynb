{
  "nbformat": 4,
  "nbformat_minor": 0,
  "metadata": {
    "colab": {
      "provenance": [],
      "authorship_tag": "ABX9TyMGfd6xmW7NyTuAq4NN3YNQ",
      "include_colab_link": true
    },
    "kernelspec": {
      "name": "python3",
      "display_name": "Python 3"
    },
    "language_info": {
      "name": "python"
    }
  },
  "cells": [
    {
      "cell_type": "markdown",
      "metadata": {
        "id": "view-in-github",
        "colab_type": "text"
      },
      "source": [
        "<a href=\"https://colab.research.google.com/github/chinmaykadu/scorecalculator/blob/main/Score_calculator.ipynb\" target=\"_parent\"><img src=\"https://colab.research.google.com/assets/colab-badge.svg\" alt=\"Open In Colab\"/></a>"
      ]
    },
    {
      "cell_type": "code",
      "source": [
        "from google.colab import drive\n",
        "drive.mount('/content/drive')"
      ],
      "metadata": {
        "id": "7eUrIiRhp9qy"
      },
      "execution_count": null,
      "outputs": []
    },
    {
      "cell_type": "code",
      "execution_count": null,
      "metadata": {
        "id": "WkkF7ByOiC9f"
      },
      "outputs": [],
      "source": [
        "from bs4 import BeautifulSoup\n",
        "\n",
        "file_path = '/content/drive/MyDrive/Colab Notebooks/Assessment - Objection Tracker Portal_ Response Sheet.html'\n",
        "\n",
        "with open(file_path, 'r', encoding = 'utf-8') as file:\n",
        "  soup = BeautifulSoup(file, 'html.parser')"
      ]
    },
    {
      "cell_type": "code",
      "source": [
        "#Initialize score\n",
        "score = 0"
      ],
      "metadata": {
        "id": "vWdqJgtmif_E"
      },
      "execution_count": null,
      "outputs": []
    },
    {
      "cell_type": "code",
      "source": [
        "# Find all tables containing Correct Option and Candidate Response\n",
        "tables = soup.find_all('table', class_='table table-responsive table-bordered center')\n"
      ],
      "metadata": {
        "id": "VuDD01MZlXE2"
      },
      "execution_count": null,
      "outputs": []
    },
    {
      "cell_type": "code",
      "source": [
        "# Calculate the score and create table\n",
        "\n",
        "breakdown = []\n",
        "for table in tables:\n",
        "    spans = table.find_all('span')\n",
        "    if len(spans) >= 2:\n",
        "        correct_option = spans[0].text.strip()\n",
        "        candidate_response = spans[1].text.strip()\n",
        "\n",
        "        if correct_option == candidate_response:\n",
        "            score += 1\n",
        "            status = \"Correct\"\n",
        "        else: status = \"Incorrect\"\n",
        "\n",
        "    breakdown.append((correct_option, candidate_response, status))\n"
      ],
      "metadata": {
        "id": "98XoF8Gymn0G"
      },
      "execution_count": null,
      "outputs": []
    },
    {
      "cell_type": "code",
      "source": [
        "breakdown"
      ],
      "metadata": {
        "colab": {
          "base_uri": "https://localhost:8080/"
        },
        "id": "xhADq0E2o9E3",
        "outputId": "f9ee3911-ced7-4e07-b428-bdf4028696cc",
        "collapsed": true
      },
      "execution_count": null,
      "outputs": [
        {
          "output_type": "execute_result",
          "data": {
            "text/plain": [
              "[('310364', '310361', 'Incorrect'),\n",
              " ('310366', '310368', 'Incorrect'),\n",
              " ('310372', '310372', 'Correct'),\n",
              " ('310376', '310377', 'Incorrect'),\n",
              " ('310385', '310383', 'Incorrect'),\n",
              " ('310385', '310383', 'Incorrect'),\n",
              " ('310391', '310393', 'Incorrect'),\n",
              " ('310399', '310396', 'Incorrect'),\n",
              " ('310399', '310396', 'Incorrect'),\n",
              " ('310409', '310406', 'Incorrect'),\n",
              " ('310411', '310413', 'Incorrect'),\n",
              " ('310418', '310419', 'Incorrect'),\n",
              " ('310422', '310421', 'Incorrect'),\n",
              " ('310430', '310430', 'Correct'),\n",
              " ('310432', '310432', 'Correct'),\n",
              " ('310439', '310439', 'Correct'),\n",
              " ('310442', '310444', 'Incorrect'),\n",
              " ('310446', '310446', 'Correct'),\n",
              " ('310451', '310451', 'Correct'),\n",
              " ('310460', '310460', 'Correct'),\n",
              " ('310465', '310465', 'Correct'),\n",
              " ('310468', '310468', 'Correct'),\n",
              " ('310471', '310471', 'Correct'),\n",
              " ('310480', '310480', 'Correct'),\n",
              " ('310483', '310483', 'Correct'),\n",
              " ('310483', '310483', 'Correct'),\n",
              " ('310483', '310483', 'Correct'),\n",
              " ('310483', '310483', 'Correct'),\n",
              " ('310483', '310483', 'Correct'),\n",
              " ('310509', '310508', 'Incorrect'),\n",
              " ('310513', '310511', 'Incorrect'),\n",
              " ('310519', '310519', 'Correct'),\n",
              " ('310521', '310521', 'Correct'),\n",
              " ('310529', '310528', 'Incorrect'),\n",
              " ('310533', '310533', 'Correct'),\n",
              " ('310539', '310539', 'Correct'),\n",
              " ('310544', '310542', 'Incorrect'),\n",
              " ('310548', '310548', 'Correct'),\n",
              " ('310555', '310552', 'Incorrect'),\n",
              " ('310556', '310556', 'Correct'),\n",
              " ('310562', '310562', 'Correct'),\n",
              " ('310569', '310569', 'Correct'),\n",
              " ('310571', '310571', 'Correct'),\n",
              " ('310578', '310578', 'Correct'),\n",
              " ('310581', '310583', 'Incorrect'),\n",
              " ('310590', '310588', 'Incorrect'),\n",
              " ('310591', '310591', 'Correct'),\n",
              " ('310599', '310599', 'Correct'),\n",
              " ('310603', '310603', 'Correct'),\n",
              " ('310610', '310610', 'Correct'),\n",
              " ('310614', '310612', 'Incorrect'),\n",
              " ('310620', '310620', 'Correct'),\n",
              " ('310625', '310625', 'Correct'),\n",
              " ('310627', '310628', 'Incorrect'),\n",
              " ('310633', '310633', 'Correct'),\n",
              " ('310636', '310636', 'Correct'),\n",
              " ('310642', '310642', 'Correct'),\n",
              " ('310649', '310649', 'Correct'),\n",
              " ('310653', '310653', 'Correct'),\n",
              " ('310657', '310657', 'Correct'),\n",
              " ('310661', '310661', 'Correct'),\n",
              " ('310670', '310670', 'Correct'),\n",
              " ('310670', '310670', 'Correct'),\n",
              " ('310670', '310670', 'Correct'),\n",
              " ('310670', '310670', 'Correct'),\n",
              " ('310670', '310670', 'Correct'),\n",
              " ('310670', '310670', 'Correct'),\n",
              " ('310670', '310670', 'Correct'),\n",
              " ('310670', '310670', 'Correct'),\n",
              " ('310670', '310670', 'Correct'),\n",
              " ('310712', '310712', 'Correct'),\n",
              " ('310716', '310716', 'Correct'),\n",
              " ('310721', '310721', 'Correct'),\n",
              " ('310726', '310729', 'Incorrect'),\n",
              " ('310734', '310733', 'Incorrect'),\n",
              " ('310738', '310738', 'Correct'),\n",
              " ('310745', '310745', 'Correct'),\n",
              " ('310748', '310748', 'Correct'),\n",
              " ('310753', '310753', 'Correct'),\n",
              " ('310756', '310756', 'Correct'),\n",
              " ('310763', '310761', 'Incorrect'),\n",
              " ('310767', '310768', 'Incorrect'),\n",
              " ('310772', '310772', 'Correct'),\n",
              " ('310779', '310779', 'Correct'),\n",
              " ('310782', '310782', 'Correct'),\n",
              " ('310788', '310786', 'Incorrect'),\n",
              " ('310794', '310793', 'Incorrect'),\n",
              " ('310799', '310799', 'Correct'),\n",
              " ('310804', '310804', 'Correct'),\n",
              " ('310806', '310806', 'Correct'),\n",
              " ('310813', '310813', 'Correct'),\n",
              " ('310816', '310816', 'Correct'),\n",
              " ('310822', '310824', 'Incorrect'),\n",
              " ('310830', '310826', 'Incorrect'),\n",
              " ('310832', '310834', 'Incorrect'),\n",
              " ('310839', '310836', 'Incorrect'),\n",
              " ('310844', '310844', 'Correct'),\n",
              " ('310848', '310848', 'Correct'),\n",
              " ('310855', '310853', 'Incorrect'),\n",
              " ('310856', '310856', 'Correct'),\n",
              " ('310864', '310864', 'Correct'),\n",
              " ('310870', '310868', 'Incorrect'),\n",
              " ('310873', '310873', 'Correct'),\n",
              " ('310876', '310876', 'Correct'),\n",
              " ('310885', '310884', 'Incorrect'),\n",
              " ('310888', '310887', 'Incorrect'),\n",
              " ('310895', '310893', 'Incorrect'),\n",
              " ('310897', '310898', 'Incorrect'),\n",
              " ('310903', '310904', 'Incorrect'),\n",
              " ('310909', '310908', 'Incorrect'),\n",
              " ('310911', '310911', 'Correct'),\n",
              " ('310920', '310916', 'Incorrect'),\n",
              " ('310925', '310924', 'Incorrect'),\n",
              " ('310927', '310927', 'Correct'),\n",
              " ('310931', '310931', 'Correct'),\n",
              " ('310940', '310938', 'Incorrect'),\n",
              " ('310944', '310944', 'Correct'),\n",
              " ('310947', '310947', 'Correct'),\n",
              " ('310954', '310953', 'Incorrect'),\n",
              " ('310958', '310958', 'Correct'),\n",
              " ('310964', '310963', 'Incorrect'),\n",
              " ('310970', '310970', 'Correct'),\n",
              " ('310972', '310974', 'Incorrect'),\n",
              " ('310976', '310977', 'Incorrect'),\n",
              " ('310983', '310982', 'Incorrect'),\n",
              " ('310989', '310987', 'Incorrect'),\n",
              " ('310993', '310993', 'Correct'),\n",
              " ('310993', '310993', 'Correct'),\n",
              " ('311003', '311001', 'Incorrect'),\n",
              " ('311008', '311008', 'Correct'),\n",
              " ('311012', '311012', 'Correct'),\n",
              " ('311017', '311016', 'Incorrect'),\n",
              " ('311024', '311023', 'Incorrect'),\n",
              " ('311027', '311029', 'Incorrect'),\n",
              " ('311031', '311034', 'Incorrect'),\n",
              " ('311031', '311034', 'Incorrect'),\n",
              " ('311041', '311043', 'Incorrect'),\n",
              " ('311049', '311050', 'Incorrect'),\n",
              " ('311051', '311051', 'Correct'),\n",
              " ('311056', '311059', 'Incorrect'),\n",
              " ('311065', '311065', 'Correct'),\n",
              " ('311070', '311070', 'Correct'),\n",
              " ('311073', '311073', 'Correct'),\n",
              " ('311080', '311077', 'Incorrect'),\n",
              " ('311083', '311083', 'Correct'),\n",
              " ('311089', '311089', 'Correct'),\n",
              " ('311091', '311091', 'Correct'),\n",
              " ('311100', '311098', 'Incorrect'),\n",
              " ('311101', '311103', 'Incorrect'),\n",
              " ('311107', '311107', 'Correct'),\n",
              " ('311114', '311114', 'Correct'),\n",
              " ('311119', '311120', 'Incorrect'),\n",
              " ('311122', '311123', 'Incorrect'),\n",
              " ('311130', '311130', 'Correct'),\n",
              " ('311133', '311133', 'Correct'),\n",
              " ('311140', '311137', 'Incorrect'),\n",
              " ('311142', '311141', 'Incorrect'),\n",
              " ('311149', '311148', 'Incorrect'),\n",
              " ('311151', '311154', 'Incorrect'),\n",
              " ('311158', '311156', 'Incorrect'),\n",
              " ('311165', '311165', 'Correct'),\n",
              " ('311168', '311168', 'Correct'),\n",
              " ('311174', '311173', 'Incorrect'),\n",
              " ('311180', '311180', 'Correct'),\n",
              " ('311183', '311183', 'Correct'),\n",
              " ('311188', '311189', 'Incorrect'),\n",
              " ('311193', '311194', 'Incorrect'),\n",
              " ('311196', '311198', 'Incorrect'),\n",
              " ('311205', '311203', 'Incorrect'),\n",
              " ('311209', '311208', 'Incorrect'),\n",
              " ('311211', '311214', 'Incorrect'),\n",
              " ('311217', '311220', 'Incorrect'),\n",
              " ('311224', '311223', 'Incorrect'),\n",
              " ('311230', '311228', 'Incorrect'),\n",
              " ('311235', '311235', 'Correct'),\n",
              " ('311239', '311238', 'Incorrect'),\n",
              " ('311244', '311242', 'Incorrect'),\n",
              " ('311250', '311246', 'Incorrect'),\n",
              " ('311251', '311251', 'Correct'),\n",
              " ('311257', '311259', 'Incorrect'),\n",
              " ('311261', '311264', 'Incorrect'),\n",
              " ('311269', '311269', 'Correct'),\n",
              " ('311275', '311272', 'Incorrect'),\n",
              " ('311278', '311278', 'Correct'),\n",
              " ('311284', '311283', 'Incorrect'),\n",
              " ('311287', '311288', 'Incorrect'),\n",
              " ('311295', '311292', 'Incorrect'),\n",
              " ('311299', '311296', 'Incorrect'),\n",
              " ('311303', '311304', 'Incorrect'),\n",
              " ('311306', '311309', 'Incorrect'),\n",
              " ('311312', '311315', 'Incorrect'),\n",
              " ('311320', '311317', 'Incorrect'),\n",
              " ('311321', '311322', 'Incorrect'),\n",
              " ('311328', '311328', 'Correct'),\n",
              " ('311331', '311334', 'Incorrect'),\n",
              " ('311340', '311336', 'Incorrect'),\n",
              " ('311344', '311341', 'Incorrect'),\n",
              " ('311350', '311347', 'Incorrect'),\n",
              " ('311354', '311354', 'Correct'),\n",
              " ('311359', '311358', 'Incorrect')]"
            ]
          },
          "metadata": {},
          "execution_count": 8
        }
      ]
    },
    {
      "cell_type": "code",
      "source": [
        "score"
      ],
      "metadata": {
        "colab": {
          "base_uri": "https://localhost:8080/"
        },
        "id": "J-XVC1Hoo1y3",
        "outputId": "7f287884-dacd-4b2e-a9ef-3706596b2528"
      },
      "execution_count": null,
      "outputs": [
        {
          "output_type": "execute_result",
          "data": {
            "text/plain": [
              "79"
            ]
          },
          "metadata": {},
          "execution_count": 7
        }
      ]
    }
  ]
}