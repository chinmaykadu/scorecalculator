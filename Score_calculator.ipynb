{
  "nbformat": 4,
  "nbformat_minor": 0,
  "metadata": {
    "colab": {
      "provenance": [],
      "authorship_tag": "ABX9TyPBhIDLqeDuZEPkbnLFREcf",
      "include_colab_link": true
    },
    "kernelspec": {
      "name": "python3",
      "display_name": "Python 3"
    },
    "language_info": {
      "name": "python"
    }
  },
  "cells": [
    {
      "cell_type": "markdown",
      "metadata": {
        "id": "view-in-github",
        "colab_type": "text"
      },
      "source": [
        "<a href=\"https://colab.research.google.com/github/chinmaykadu/scorecalculator/blob/main/Score_calculator.ipynb\" target=\"_parent\"><img src=\"https://colab.research.google.com/assets/colab-badge.svg\" alt=\"Open In Colab\"/></a>"
      ]
    },
    {
      "cell_type": "code",
      "source": [
        "from google.colab import drive\n",
        "drive.mount('/content/drive')"
      ],
      "metadata": {
        "id": "7eUrIiRhp9qy",
        "colab": {
          "base_uri": "https://localhost:8080/"
        },
        "outputId": "49a267b3-8ac4-4a5d-b5cb-a3c35ea7b89e"
      },
      "execution_count": 2,
      "outputs": [
        {
          "output_type": "stream",
          "name": "stdout",
          "text": [
            "Mounted at /content/drive\n"
          ]
        }
      ]
    },
    {
      "cell_type": "code",
      "execution_count": 3,
      "metadata": {
        "id": "WkkF7ByOiC9f"
      },
      "outputs": [],
      "source": [
        "from bs4 import BeautifulSoup\n",
        "\n",
        "file_path = '/content/drive/MyDrive/Colab Notebooks/Assessment - Objection Tracker Portal_ Response Sheet.html'\n",
        "\n",
        "with open(file_path, 'r', encoding = 'utf-8') as file:\n",
        "  soup = BeautifulSoup(file, 'html.parser')"
      ]
    },
    {
      "cell_type": "code",
      "source": [
        "#Initialize score\n",
        "score = 0"
      ],
      "metadata": {
        "id": "vWdqJgtmif_E"
      },
      "execution_count": 4,
      "outputs": []
    },
    {
      "cell_type": "code",
      "source": [
        "# Find all tables containing Correct Option and Candidate Response\n",
        "tables = soup.find_all('table', class_='table table-responsive table-bordered center')\n"
      ],
      "metadata": {
        "id": "VuDD01MZlXE2"
      },
      "execution_count": 5,
      "outputs": []
    },
    {
      "cell_type": "code",
      "source": [
        "# Calculate the score and create table\n",
        "\n",
        "breakdown = []\n",
        "for table in tables:\n",
        "    spans = table.find_all('span')\n",
        "    if len(spans) >= 2:\n",
        "        correct_option = spans[0].text.strip()\n",
        "        candidate_response = spans[1].text.strip()\n",
        "\n",
        "        if correct_option == candidate_response:\n",
        "            score += 1\n",
        "            status = \"Correct\"\n",
        "        else: status = \"Incorrect\"\n",
        "\n",
        "    breakdown.append((correct_option, candidate_response, status))\n"
      ],
      "metadata": {
        "id": "98XoF8Gymn0G"
      },
      "execution_count": 6,
      "outputs": []
    },
    {
      "cell_type": "code",
      "source": [
        "print(\"Breakdown:\")\n",
        "for item in breakdown:\n",
        "    print(f\"Correct Option: {item[0]}, Candidate Response: {item[1]}, Status: {item[2]}\")"
      ],
      "metadata": {
        "colab": {
          "base_uri": "https://localhost:8080/"
        },
        "id": "xhADq0E2o9E3",
        "outputId": "8be9c3a1-3937-4711-8d20-899f82383705",
        "collapsed": true
      },
      "execution_count": 7,
      "outputs": [
        {
          "output_type": "stream",
          "name": "stdout",
          "text": [
            "Breakdown:\n",
            "Correct Option: 311364, Candidate Response: 311364, Status: Correct\n",
            "Correct Option: 311366, Candidate Response: 311368, Status: Incorrect\n",
            "Correct Option: 311374, Candidate Response: 311374, Status: Correct\n",
            "Correct Option: 311377, Candidate Response: 311379, Status: Incorrect\n",
            "Correct Option: 311381, Candidate Response: 311384, Status: Incorrect\n",
            "Correct Option: 311390, Candidate Response: 311390, Status: Correct\n",
            "Correct Option: 311395, Candidate Response: 311393, Status: Incorrect\n",
            "Correct Option: 311400, Candidate Response: 311399, Status: Incorrect\n",
            "Correct Option: 311405, Candidate Response: 311404, Status: Incorrect\n",
            "Correct Option: 311408, Candidate Response: 311409, Status: Incorrect\n",
            "Correct Option: 311411, Candidate Response: 311414, Status: Incorrect\n",
            "Correct Option: 311419, Candidate Response: 311419, Status: Correct\n",
            "Correct Option: 311422, Candidate Response: 311424, Status: Incorrect\n",
            "Correct Option: 311429, Candidate Response: 311429, Status: Correct\n",
            "Correct Option: 311434, Candidate Response: 311434, Status: Correct\n",
            "Correct Option: 311437, Candidate Response: 311438, Status: Incorrect\n",
            "Correct Option: 311442, Candidate Response: 311442, Status: Correct\n",
            "Correct Option: 311448, Candidate Response: 311448, Status: Correct\n",
            "Correct Option: 311455, Candidate Response: 311455, Status: Correct\n",
            "Correct Option: 311457, Candidate Response: 311459, Status: Incorrect\n",
            "Correct Option: 311464, Candidate Response: 311464, Status: Correct\n",
            "Correct Option: 311466, Candidate Response: 311469, Status: Incorrect\n",
            "Correct Option: 311473, Candidate Response: 311473, Status: Correct\n",
            "Correct Option: 311476, Candidate Response: 311479, Status: Incorrect\n",
            "Correct Option: 311482, Candidate Response: 311484, Status: Incorrect\n",
            "Correct Option: 311488, Candidate Response: 311487, Status: Incorrect\n",
            "Correct Option: 311493, Candidate Response: 311493, Status: Correct\n",
            "Correct Option: 311499, Candidate Response: 311499, Status: Correct\n",
            "Correct Option: 311501, Candidate Response: 311501, Status: Correct\n",
            "Correct Option: 311507, Candidate Response: 311507, Status: Correct\n",
            "Correct Option: 311514, Candidate Response: 311514, Status: Correct\n",
            "Correct Option: 311516, Candidate Response: 311519, Status: Incorrect\n",
            "Correct Option: 311523, Candidate Response: 311524, Status: Incorrect\n",
            "Correct Option: 311528, Candidate Response: 311529, Status: Incorrect\n",
            "Correct Option: 311532, Candidate Response: 311534, Status: Incorrect\n",
            "Correct Option: 311538, Candidate Response: 311539, Status: Incorrect\n",
            "Correct Option: 311545, Candidate Response: 311544, Status: Incorrect\n",
            "Correct Option: 311547, Candidate Response: 311547, Status: Correct\n",
            "Correct Option: 311553, Candidate Response: 311555, Status: Incorrect\n",
            "Correct Option: 311557, Candidate Response: 311559, Status: Incorrect\n",
            "Correct Option: 311565, Candidate Response: 311564, Status: Incorrect\n",
            "Correct Option: 311569, Candidate Response: 311569, Status: Correct\n",
            "Correct Option: 311571, Candidate Response: 311574, Status: Incorrect\n",
            "Correct Option: 311577, Candidate Response: 311577, Status: Correct\n",
            "Correct Option: 311583, Candidate Response: 311584, Status: Incorrect\n",
            "Correct Option: 311588, Candidate Response: 311589, Status: Incorrect\n",
            "Correct Option: 311591, Candidate Response: 311594, Status: Incorrect\n",
            "Correct Option: 311596, Candidate Response: 311599, Status: Incorrect\n",
            "Correct Option: 311604, Candidate Response: 311604, Status: Correct\n",
            "Correct Option: 311607, Candidate Response: 311609, Status: Incorrect\n",
            "Correct Option: 311615, Candidate Response: 311615, Status: Correct\n",
            "Correct Option: 311616, Candidate Response: 311619, Status: Incorrect\n",
            "Correct Option: 311622, Candidate Response: 311624, Status: Incorrect\n",
            "Correct Option: 311628, Candidate Response: 311629, Status: Incorrect\n",
            "Correct Option: 311634, Candidate Response: 311634, Status: Correct\n",
            "Correct Option: 311636, Candidate Response: 311636, Status: Correct\n",
            "Correct Option: 311642, Candidate Response: 311641, Status: Incorrect\n",
            "Correct Option: 311650, Candidate Response: 311650, Status: Correct\n",
            "Correct Option: 311653, Candidate Response: 311651, Status: Incorrect\n",
            "Correct Option: 311657, Candidate Response: 311656, Status: Incorrect\n",
            "Correct Option: 311665, Candidate Response: 311665, Status: Correct\n",
            "Correct Option: 311669, Candidate Response: 311669, Status: Correct\n",
            "Correct Option: 311675, Candidate Response: 311675, Status: Correct\n",
            "Correct Option: 311678, Candidate Response: 311678, Status: Correct\n",
            "Correct Option: 311681, Candidate Response: 311681, Status: Correct\n",
            "Correct Option: 311688, Candidate Response: 311689, Status: Incorrect\n",
            "Correct Option: 311691, Candidate Response: 311694, Status: Incorrect\n",
            "Correct Option: 311700, Candidate Response: 311700, Status: Correct\n",
            "Correct Option: 311704, Candidate Response: 311704, Status: Correct\n",
            "Correct Option: 311707, Candidate Response: 311709, Status: Incorrect\n",
            "Correct Option: 311715, Candidate Response: 311714, Status: Incorrect\n",
            "Correct Option: 311717, Candidate Response: 311717, Status: Correct\n",
            "Correct Option: 311722, Candidate Response: 311724, Status: Incorrect\n",
            "Correct Option: 311727, Candidate Response: 311727, Status: Correct\n",
            "Correct Option: 311733, Candidate Response: 311734, Status: Incorrect\n",
            "Correct Option: 311740, Candidate Response: 311739, Status: Incorrect\n",
            "Correct Option: 311742, Candidate Response: 311742, Status: Correct\n",
            "Correct Option: 311748, Candidate Response: 311748, Status: Correct\n",
            "Correct Option: 311755, Candidate Response: 311754, Status: Incorrect\n",
            "Correct Option: 311759, Candidate Response: 311759, Status: Correct\n",
            "Correct Option: 311764, Candidate Response: 311764, Status: Correct\n",
            "Correct Option: 311769, Candidate Response: 311769, Status: Correct\n",
            "Correct Option: 311773, Candidate Response: 311773, Status: Correct\n",
            "Correct Option: 311780, Candidate Response: 311780, Status: Correct\n",
            "Correct Option: 311783, Candidate Response: 311783, Status: Correct\n",
            "Correct Option: 311787, Candidate Response: 311790, Status: Incorrect\n",
            "Correct Option: 311793, Candidate Response: 311793, Status: Correct\n",
            "Correct Option: 311797, Candidate Response: 311800, Status: Incorrect\n",
            "Correct Option: 311801, Candidate Response: 311801, Status: Correct\n",
            "Correct Option: 311808, Candidate Response: 311808, Status: Correct\n",
            "Correct Option: 311813, Candidate Response: 311813, Status: Correct\n",
            "Correct Option: 311818, Candidate Response: 311818, Status: Correct\n",
            "Correct Option: 311822, Candidate Response: 311822, Status: Correct\n",
            "Correct Option: 311827, Candidate Response: 311827, Status: Correct\n",
            "Correct Option: 311834, Candidate Response: 311834, Status: Correct\n",
            "Correct Option: 311837, Candidate Response: 311837, Status: Correct\n",
            "Correct Option: 311845, Candidate Response: 311844, Status: Incorrect\n",
            "Correct Option: 311848, Candidate Response: 311848, Status: Correct\n",
            "Correct Option: 311853, Candidate Response: 311853, Status: Correct\n",
            "Correct Option: 311860, Candidate Response: 311856, Status: Incorrect\n",
            "Correct Option: 311865, Candidate Response: 311861, Status: Incorrect\n",
            "Correct Option: 311867, Candidate Response: 311866, Status: Incorrect\n",
            "Correct Option: 311875, Candidate Response: 311871, Status: Incorrect\n",
            "Correct Option: 311880, Candidate Response: 311876, Status: Incorrect\n",
            "Correct Option: 311883, Candidate Response: 311881, Status: Incorrect\n",
            "Correct Option: 311887, Candidate Response: 311886, Status: Incorrect\n",
            "Correct Option: 311895, Candidate Response: 311891, Status: Incorrect\n",
            "Correct Option: 311896, Candidate Response: 311896, Status: Correct\n",
            "Correct Option: 311902, Candidate Response: 311901, Status: Incorrect\n",
            "Correct Option: 311910, Candidate Response: 311906, Status: Incorrect\n",
            "Correct Option: 311914, Candidate Response: 311911, Status: Incorrect\n",
            "Correct Option: 311920, Candidate Response: 311916, Status: Incorrect\n",
            "Correct Option: 311924, Candidate Response: 311921, Status: Incorrect\n",
            "Correct Option: 311926, Candidate Response: 311926, Status: Correct\n",
            "Correct Option: 311935, Candidate Response: 311931, Status: Incorrect\n",
            "Correct Option: 311937, Candidate Response: 311936, Status: Incorrect\n",
            "Correct Option: 311945, Candidate Response: 311941, Status: Incorrect\n",
            "Correct Option: 311950, Candidate Response: 311946, Status: Incorrect\n",
            "Correct Option: 311951, Candidate Response: 311954, Status: Incorrect\n",
            "Correct Option: 311958, Candidate Response: 311956, Status: Incorrect\n",
            "Correct Option: 311963, Candidate Response: 311961, Status: Incorrect\n",
            "Correct Option: 311969, Candidate Response: 311966, Status: Incorrect\n",
            "Correct Option: 311973, Candidate Response: 311971, Status: Incorrect\n",
            "Correct Option: 311980, Candidate Response: 311976, Status: Incorrect\n",
            "Correct Option: 311985, Candidate Response: 311983, Status: Incorrect\n",
            "Correct Option: 311989, Candidate Response: 311986, Status: Incorrect\n",
            "Correct Option: 311995, Candidate Response: 311991, Status: Incorrect\n",
            "Correct Option: 311998, Candidate Response: 311996, Status: Incorrect\n",
            "Correct Option: 312001, Candidate Response: 312001, Status: Correct\n",
            "Correct Option: 312008, Candidate Response: 312006, Status: Incorrect\n",
            "Correct Option: 312012, Candidate Response: 312013, Status: Incorrect\n",
            "Correct Option: 312019, Candidate Response: 312016, Status: Incorrect\n",
            "Correct Option: 312022, Candidate Response: 312021, Status: Incorrect\n",
            "Correct Option: 312028, Candidate Response: 312026, Status: Incorrect\n",
            "Correct Option: 312032, Candidate Response: 312032, Status: Correct\n",
            "Correct Option: 312037, Candidate Response: 312036, Status: Incorrect\n",
            "Correct Option: 312045, Candidate Response: 312041, Status: Incorrect\n",
            "Correct Option: 312047, Candidate Response: 312046, Status: Incorrect\n",
            "Correct Option: 312051, Candidate Response: 312053, Status: Incorrect\n",
            "Correct Option: 312060, Candidate Response: 312056, Status: Incorrect\n",
            "Correct Option: 312065, Candidate Response: 312061, Status: Incorrect\n",
            "Correct Option: 312066, Candidate Response: 312066, Status: Correct\n",
            "Correct Option: 312071, Candidate Response: 312071, Status: Correct\n",
            "Correct Option: 312078, Candidate Response: 312078, Status: Correct\n",
            "Correct Option: 312081, Candidate Response: 312081, Status: Correct\n",
            "Correct Option: 312089, Candidate Response: 312086, Status: Incorrect\n",
            "Correct Option: 312093, Candidate Response: 312091, Status: Incorrect\n",
            "Correct Option: 312100, Candidate Response: 312096, Status: Incorrect\n",
            "Correct Option: 312101, Candidate Response: 312101, Status: Correct\n",
            "Correct Option: 312109, Candidate Response: 312109, Status: Correct\n",
            "Correct Option: 312114, Candidate Response: 312114, Status: Correct\n",
            "Correct Option: 312120, Candidate Response: 312119, Status: Incorrect\n",
            "Correct Option: 312124, Candidate Response: 312122, Status: Incorrect\n",
            "Correct Option: 312128, Candidate Response: 312128, Status: Correct\n",
            "Correct Option: 312131, Candidate Response: 312133, Status: Incorrect\n",
            "Correct Option: 312138, Candidate Response: 312139, Status: Incorrect\n",
            "Correct Option: 312144, Candidate Response: 312144, Status: Correct\n",
            "Correct Option: 312146, Candidate Response: 312149, Status: Incorrect\n",
            "Correct Option: 312155, Candidate Response: 312154, Status: Incorrect\n",
            "Correct Option: 312158, Candidate Response: 312159, Status: Incorrect\n",
            "Correct Option: 312162, Candidate Response: 312164, Status: Incorrect\n",
            "Correct Option: 312168, Candidate Response: 312169, Status: Incorrect\n",
            "Correct Option: 312171, Candidate Response: 312171, Status: Correct\n",
            "Correct Option: 312180, Candidate Response: 312180, Status: Correct\n",
            "Correct Option: 312185, Candidate Response: 312181, Status: Incorrect\n",
            "Correct Option: 312187, Candidate Response: 312189, Status: Incorrect\n",
            "Correct Option: 312191, Candidate Response: 312194, Status: Incorrect\n",
            "Correct Option: 312198, Candidate Response: 312199, Status: Incorrect\n",
            "Correct Option: 312204, Candidate Response: 312204, Status: Correct\n",
            "Correct Option: 312206, Candidate Response: 312209, Status: Incorrect\n",
            "Correct Option: 312215, Candidate Response: 312214, Status: Incorrect\n",
            "Correct Option: 312217, Candidate Response: 312218, Status: Incorrect\n",
            "Correct Option: 312223, Candidate Response: 312224, Status: Incorrect\n",
            "Correct Option: 312227, Candidate Response: 312229, Status: Incorrect\n",
            "Correct Option: 312232, Candidate Response: 312234, Status: Incorrect\n",
            "Correct Option: 312236, Candidate Response: 312237, Status: Incorrect\n",
            "Correct Option: 312244, Candidate Response: 312243, Status: Incorrect\n",
            "Correct Option: 312250, Candidate Response: 312249, Status: Incorrect\n",
            "Correct Option: 312253, Candidate Response: 312251, Status: Incorrect\n",
            "Correct Option: 312259, Candidate Response: 312256, Status: Incorrect\n",
            "Correct Option: 312265, Candidate Response: 312265, Status: Correct\n",
            "Correct Option: 312270, Candidate Response: 312269, Status: Incorrect\n",
            "Correct Option: 312271, Candidate Response: 312272, Status: Incorrect\n",
            "Correct Option: 312278, Candidate Response: 312278, Status: Correct\n",
            "Correct Option: 312282, Candidate Response: 312282, Status: Correct\n",
            "Correct Option: 312289, Candidate Response: 312288, Status: Incorrect\n",
            "Correct Option: 312294, Candidate Response: 312294, Status: Correct\n",
            "Correct Option: 312298, Candidate Response: 312299, Status: Incorrect\n",
            "Correct Option: 312302, Candidate Response: 312304, Status: Incorrect\n",
            "Correct Option: 312307, Candidate Response: 312307, Status: Correct\n",
            "Correct Option: 312315, Candidate Response: 312315, Status: Correct\n",
            "Correct Option: 312319, Candidate Response: 312316, Status: Incorrect\n",
            "Correct Option: 312321, Candidate Response: 312321, Status: Correct\n",
            "Correct Option: 312327, Candidate Response: 312329, Status: Incorrect\n",
            "Correct Option: 312334, Candidate Response: 312334, Status: Correct\n",
            "Correct Option: 312336, Candidate Response: 312339, Status: Incorrect\n",
            "Correct Option: 312343, Candidate Response: 312343, Status: Correct\n",
            "Correct Option: 312348, Candidate Response: 312350, Status: Incorrect\n",
            "Correct Option: 312354, Candidate Response: 312354, Status: Correct\n",
            "Correct Option: 312356, Candidate Response: 312356, Status: Correct\n"
          ]
        }
      ]
    },
    {
      "cell_type": "code",
      "source": [
        "print(f\"Total Score: {score}\")"
      ],
      "metadata": {
        "colab": {
          "base_uri": "https://localhost:8080/"
        },
        "id": "J-XVC1Hoo1y3",
        "outputId": "a2271419-031a-4217-d5d7-73d0f78a7f12"
      },
      "execution_count": 9,
      "outputs": [
        {
          "output_type": "stream",
          "name": "stdout",
          "text": [
            "Total Score: 79\n"
          ]
        }
      ]
    }
  ]
}